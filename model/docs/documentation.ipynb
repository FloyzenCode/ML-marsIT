{
 "cells": [
  {
   "attachments": {},
   "cell_type": "markdown",
   "metadata": {},
   "source": [
    "<div align=\"center\"><strong><h1 style=\"font-weight: 600;\">Документация</h1></strong></div>\n",
    "\n",
    "---"
   ]
  },
  {
   "attachments": {},
   "cell_type": "markdown",
   "metadata": {},
   "source": [
    "Для начала импортируем все необходимые библиотеки"
   ]
  },
  {
   "cell_type": "code",
   "execution_count": null,
   "metadata": {},
   "outputs": [],
   "source": [
    "import matplotlib.pyplot as plt\n",
    "import pytesseract\n",
    "import cv2"
   ]
  },
  {
   "attachments": {},
   "cell_type": "markdown",
   "metadata": {},
   "source": [
    "Функция для открытия картинки и превращение её в RGB"
   ]
  },
  {
   "cell_type": "code",
   "execution_count": null,
   "metadata": {},
   "outputs": [],
   "source": [
    "def open_image(img_path):\n",
    "    carplate_img = cv2.imread(img_path)\n",
    "    carplate_img = cv2.cvtColor(carplate_img, cv2.COLOR_BGR2RGB)\n",
    "    plt.axis('off')\n",
    "    plt.imshow(carplate_img)\n",
    "    plt.show()\n",
    "    return carplate_img"
   ]
  },
  {
   "attachments": {},
   "cell_type": "markdown",
   "metadata": {},
   "source": [
    "Функция для выделения области номера на автомобиле"
   ]
  },
  {
   "cell_type": "code",
   "execution_count": null,
   "metadata": {},
   "outputs": [],
   "source": [
    "def carplate_extract(image, carplate_hear_cascade):\n",
    "    carplate_rects = carplate_hear_cascade.detectMultiScale(\n",
    "        image, scaleFactor=1.1, minNeighbors=5)\n",
    "\n",
    "    for x, y, w, h in carplate_rects:\n",
    "        carplate_img = image[y+15:y+h-10, x+15:x+w-20]\n",
    "\n",
    "    return carplate_img"
   ]
  },
  {
   "attachments": {},
   "cell_type": "markdown",
   "metadata": {},
   "source": [
    "Функция увеличивает изображение на заданное количество процентов"
   ]
  },
  {
   "cell_type": "code",
   "execution_count": null,
   "metadata": {},
   "outputs": [],
   "source": [
    "def enlarge_img(image, scale_precent):\n",
    "    height = int(image.shape[0] * scale_precent / 100)\n",
    "    width = int(image.shape[1] * scale_precent / 100)\n",
    "    dim = (width, height)\n",
    "    plt.axis('off')\n",
    "    resized_image = cv2.resize(image, dim, interpolation=cv2.INTER_AREA)\n",
    "    return resized_image"
   ]
  }
 ],
 "metadata": {
  "language_info": {
   "name": "python"
  },
  "orig_nbformat": 4
 },
 "nbformat": 4,
 "nbformat_minor": 2
}
